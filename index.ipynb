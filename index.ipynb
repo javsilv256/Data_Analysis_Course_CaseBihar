{
  "cells": [
    {
      "cell_type": "raw",
      "metadata": {},
      "source": [
        "---\n",
        "title: \"Home\"\n",
        "subtitle: \"Home\"\n",
        "\n",
        "---"
      ],
      "id": "d40e5423"
    },
    {
      "cell_type": "markdown",
      "metadata": {},
      "source": [
        "```{css, echo=FALSE}\n",
        ".title {\n",
        "  font-size: 100px;\n",
        "  font-style: italic;\n",
        "  color: blue;\n",
        "  font-family: Arial;\n",
        "  font-variant: small-caps;\n",
        "}\n",
        "```\n",
        "\n",
        "\n",
        "## Case: Visceral Leishmaniasis in Bihar\n",
        "\n",
        "Welcome! This are Lecture notes for the Multivariate Analysis Course at the Institute of Tropical Medicine in Antwerp. These notes were made as reference for the solutions to the exercises given in class.\n",
        "\n",
        "All lecture notes and this webpage were created using **RStudio** with Quarto. (I didn't know it could do that either.) It's not perfect, but I hope it's useful!\n",
        "\n",
        "If you find any errors, please let me know, thanks!\n",
        "\n",
        "## Disclaimer\n",
        "\n",
        "Please note: These notes are a reflection of an own understanding and may not exactly match all the codes provided in class. While I've done my best to ensure their accuracy, please use them as a guide and always verify the solutions with your own understanding and the course materials.\n",
        "\n",
        "## Navigation\n",
        "\n",
        "Use the sidebar on the left to navigate through the different exercises.\n",
        "\n",
        "## Creators\n",
        "\n",
        "**Author**\n",
        "\n",
        "*Javier Silva-Valencia, (javier.silva@unmsm.edu.pe)*\n",
        "\n",
        "**Contributors**\n",
        "\n",
        "*Samuel (Baba) Rashidi Assani*\n",
        "\n",
        "*Misabe'o (Pacifique) Nunda*\n"
      ],
      "id": "a3d6b38c"
    }
  ],
  "metadata": {
    "kernelspec": {
      "display_name": "Python 3",
      "language": "python",
      "name": "python3"
    }
  },
  "nbformat": 4,
  "nbformat_minor": 5
}